{
 "cells": [
  {
   "cell_type": "code",
   "execution_count": 1,
   "metadata": {},
   "outputs": [
    {
     "name": "stderr",
     "output_type": "stream",
     "text": [
      "Python-dotenv could not parse statement starting at line 7\n",
      "Python-dotenv could not parse statement starting at line 8\n",
      "Python-dotenv could not parse statement starting at line 9\n"
     ]
    }
   ],
   "source": [
    "from bs4 import BeautifulSoup\n",
    "import requests\n",
    "from dotenv import load_dotenv\n",
    "import os\n",
    "load_dotenv()\n",
    "ASTRA_DB_API_ENDPOINT=os.getenv(\"ASTRA_DB_API_ENDPOINT\")\n",
    "ASTRA_DB_APPLICATION_TOKEN=os.getenv(\"ASTRA_DB_APPLICATION_TOKEN\")\n",
    "ASTRA_DB_KEYSPACE=os.getenv(\"ASTRA_DB_KEYSPACE\")\n",
    "HF_TOKEN = os.getenv(\"HF_TOKEN\")\n",
    "GROQ_API = os.getenv(\"GROQ_API\")"
   ]
  },
  {
   "cell_type": "code",
   "execution_count": 2,
   "metadata": {},
   "outputs": [],
   "source": [
    "def extract_info(soup):\n",
    "    return [\n",
    "        {\n",
    "            'title': eachHead.find(\"h3\", {\"class\": \"dataset-heading\"}).find('a').text,\n",
    "            'link': eachHead.find(\"h3\", {\"class\": \"dataset-heading\"}).find('a').attrs['href'],\n",
    "            'datasetOrganiz': eachHead.find(\"div\", {\"class\": \"notes\"}).find('p', {\"class\": \"dataset-organization\"}).text,\n",
    "            'description': eachHead.find(\"div\", {\"class\": \"notes\"}).find('div').text,\n",
    "        } for eachHead in soup.find_all(\"div\", {\"class\": \"dataset-content\"})]"
   ]
  },
  {
   "cell_type": "code",
   "execution_count": 3,
   "metadata": {},
   "outputs": [],
   "source": [
    "url_list = [\n",
    "\"https://catalog.data.gov/dataset?res_format=XML\",\n",
    "# \"http://aiweb.cs.washington.edu/research/projects/xmltk/xmldata/\",\n",
    "# \"https://data.gov.ie/dataset?res_format=JSON\",\n",
    "# \"https://catalog.data.gov/dataset?res_format=JSON\",\n",
    "# \"https://data.worldbank.org/\",\n",
    "]\n",
    "final_doc = []\n",
    "for eachPage in url_list:\n",
    "    r = requests.get(eachPage)\n",
    "    soup = BeautifulSoup(r.content, 'html.parser')\n",
    "    final_doc = final_doc + extract_info(soup)"
   ]
  },
  {
   "cell_type": "code",
   "execution_count": 4,
   "metadata": {},
   "outputs": [
    {
     "data": {
      "text/plain": [
       "[{'title': 'Electric Vehicle Population Data',\n",
       "  'link': '/dataset/electric-vehicle-population-data',\n",
       "  'datasetOrganiz': 'State of Washington —',\n",
       "  'description': 'This dataset shows the Battery Electric Vehicles (BEVs) and Plug-in Hybrid Electric Vehicles (PHEVs) that are currently registered through Washington State Department...'},\n",
       " {'title': 'Crime Data from 2020 to Present',\n",
       "  'link': '/dataset/crime-data-from-2020-to-present',\n",
       "  'datasetOrganiz': 'City of Los Angeles —',\n",
       "  'description': 'Starting on March 7th, 2024, the Los Angeles Police Department (LAPD) will adopt a new Records Management System for reporting crimes and arrests. This new system is...'},\n",
       " {'title': 'Air Quality',\n",
       "  'link': '/dataset/air-quality',\n",
       "  'datasetOrganiz': 'City of New York —',\n",
       "  'description': 'Dataset contains information on New York City air quality surveillance data. Air pollution is one of the most important environmental threats to urban populations...'},\n",
       " {'title': 'Lottery Mega Millions Winning Numbers: Beginning 2002',\n",
       "  'link': '/dataset/lottery-mega-millions-winning-numbers-beginning-2002',\n",
       "  'datasetOrganiz': 'State of New York —',\n",
       "  'description': 'Go to http://on.ny.gov/1J8tPSN on the New York Lottery website for past Mega Millions results and payouts.'},\n",
       " {'title': 'Death rates for suicide, by sex, race, Hispanic origin, and age: United States',\n",
       "  'link': '/dataset/death-rates-for-suicide-by-sex-race-hispanic-origin-and-age-united-states-020c1',\n",
       "  'datasetOrganiz': 'U.S. Department of Health & Human Services —',\n",
       "  'description': 'Data on death rates for suicide, by selected population characteristics. Please refer to the PDF or Excel version of this table in the HUS 2019 Data Finder...'},\n",
       " {'title': 'Real Estate Sales 2001-2022 GL',\n",
       "  'link': '/dataset/real-estate-sales-2001-2018',\n",
       "  'datasetOrganiz': 'State of Connecticut —',\n",
       "  'description': 'The Office of Policy and Management maintains a listing of all real estate sales with a sales price of $2,000 or greater that occur between October 1 and September 30...'},\n",
       " {'title': \"Alzheimer's Disease and Healthy Aging Data\",\n",
       "  'link': '/dataset/alzheimers-disease-and-healthy-aging-data',\n",
       "  'datasetOrganiz': 'U.S. Department of Health & Human Services —',\n",
       "  'description': '2015-2022. This data set contains data from BRFSS.'},\n",
       " {'title': 'Warehouse and Retail Sales',\n",
       "  'link': '/dataset/warehouse-and-retail-sales',\n",
       "  'datasetOrganiz': 'Montgomery County of Maryland —',\n",
       "  'description': 'This dataset contains a list of sales and movement data by item and department appended monthly. Update Frequency : Monthly'},\n",
       " {'title': 'Motor Vehicle Collisions - Crashes',\n",
       "  'link': '/dataset/motor-vehicle-collisions-crashes',\n",
       "  'datasetOrganiz': 'City of New York —',\n",
       "  'description': 'The Motor Vehicle Collisions crash table contains details on the crash event. Each row represents a crash event. The Motor Vehicle Collisions data tables contain...'},\n",
       " {'title': 'Border Crossing Entry Data',\n",
       "  'link': '/dataset/border-crossing-entry-data-683ae',\n",
       "  'datasetOrganiz': 'Department of Transportation —',\n",
       "  'description': 'The Bureau of Transportation Statistics (BTS) Border Crossing Data provide summary statistics for inbound crossings at the U.S.-Canada and the U.S.-Mexico border at...'},\n",
       " {'title': 'U.S. Chronic Disease Indicators (CDI), 2023 Release',\n",
       "  'link': '/dataset/u-s-chronic-disease-indicators-cdi',\n",
       "  'datasetOrganiz': 'U.S. Department of Health & Human Services —',\n",
       "  'description': 'This dataset is based on indicators described in MMWR \"Indicators for Chronic Disease Surveillance — United States, 2013\"...'},\n",
       " {'title': 'Nutrition, Physical Activity, and Obesity - Behavioral Risk Factor Surveillance System',\n",
       "  'link': '/dataset/nutrition-physical-activity-and-obesity-behavioral-risk-factor-surveillance-system',\n",
       "  'datasetOrganiz': 'U.S. Department of Health & Human Services —',\n",
       "  'description': \"This dataset includes data on adult's diet, physical activity, and weight status from Behavioral Risk Factor Surveillance System. This data is used for DNPAO's Data,...\"},\n",
       " {'title': 'Lottery Powerball Winning Numbers: Beginning 2010',\n",
       "  'link': '/dataset/lottery-powerball-winning-numbers-beginning-2010',\n",
       "  'datasetOrganiz': 'State of New York —',\n",
       "  'description': 'Go to http://on.ny.gov/1GpWiHD on the New York Lottery website for past Powerball results and payouts.'},\n",
       " {'title': 'Drug overdose death rates, by drug type, sex, age, race, and Hispanic origin: United States',\n",
       "  'link': '/dataset/drug-overdose-death-rates-by-drug-type-sex-age-race-and-hispanic-origin-united-states-3f72f',\n",
       "  'datasetOrganiz': 'U.S. Department of Health & Human Services —',\n",
       "  'description': 'Data on drug overdose death rates, by drug type and selected population characteristics. Please refer to the PDF or Excel version of this table in the HUS 2019 Data...'},\n",
       " {'title': 'Crash Reporting - Drivers Data',\n",
       "  'link': '/dataset/crash-reporting-drivers-data',\n",
       "  'datasetOrganiz': 'Montgomery County of Maryland —',\n",
       "  'description': 'This dataset provides information on motor vehicle operators (drivers) involved in traffic collisions occurring on county and local roadways. The dataset reports...'},\n",
       " {'title': 'NCHS - Leading Causes of Death: United States',\n",
       "  'link': '/dataset/nchs-leading-causes-of-death-united-states',\n",
       "  'datasetOrganiz': 'U.S. Department of Health & Human Services —',\n",
       "  'description': 'This dataset presents the age-adjusted death rates for the 10 leading causes of death in the United States beginning in 1999. Data are based on information from all...'},\n",
       " {'title': 'COVID-19 Outcomes by Vaccination Status - Historical',\n",
       "  'link': '/dataset/covid-19-outcomes-by-vaccination-status',\n",
       "  'datasetOrganiz': 'City of Chicago —',\n",
       "  'description': 'NOTE: This dataset has been retired and marked as historical-only. Weekly rates of COVID-19 cases, hospitalizations, and deaths among people living in Chicago by...'},\n",
       " {'title': 'Mental Health Care in the Last 4 Weeks',\n",
       "  'link': '/dataset/mental-health-care-in-the-last-4-weeks',\n",
       "  'datasetOrganiz': 'U.S. Department of Health & Human Services —',\n",
       "  'description': 'The U.S. Census Bureau, in collaboration with five federal agencies, launched the Household Pulse Survey to produce data on the social and economic impacts of...'},\n",
       " {'title': 'MVA Vehicle Sales Counts by Month for Calendar Year 2002 through September 2024',\n",
       "  'link': '/dataset/mva-vehicle-sales-counts-by-month-for-calendar-year-2002-2020-up-to-october',\n",
       "  'datasetOrganiz': 'State of Maryland —',\n",
       "  'description': 'The number of new and used vehicles and the sales dollars respectively sold by month. MDOT MVA’s Customer Connect modernization project, implemented in July 2020, has...'},\n",
       " {'title': 'Popular Baby Names',\n",
       "  'link': '/dataset/popular-baby-names',\n",
       "  'datasetOrganiz': 'City of New York —',\n",
       "  'description': 'Popular Baby Names by Sex and Ethnic Group Data were collected through civil birth registration. Each record represents the ranking of a baby name in the order of...'}]"
      ]
     },
     "execution_count": 4,
     "metadata": {},
     "output_type": "execute_result"
    }
   ],
   "source": [
    "final_doc"
   ]
  },
  {
   "cell_type": "code",
   "execution_count": 5,
   "metadata": {},
   "outputs": [],
   "source": [
    "import pandas as pd\n",
    "df =  pd.DataFrame(final_doc)"
   ]
  },
  {
   "cell_type": "code",
   "execution_count": 6,
   "metadata": {},
   "outputs": [
    {
     "data": {
      "text/html": [
       "<div>\n",
       "<style scoped>\n",
       "    .dataframe tbody tr th:only-of-type {\n",
       "        vertical-align: middle;\n",
       "    }\n",
       "\n",
       "    .dataframe tbody tr th {\n",
       "        vertical-align: top;\n",
       "    }\n",
       "\n",
       "    .dataframe thead th {\n",
       "        text-align: right;\n",
       "    }\n",
       "</style>\n",
       "<table border=\"1\" class=\"dataframe\">\n",
       "  <thead>\n",
       "    <tr style=\"text-align: right;\">\n",
       "      <th></th>\n",
       "      <th>title</th>\n",
       "      <th>link</th>\n",
       "      <th>datasetOrganiz</th>\n",
       "      <th>description</th>\n",
       "    </tr>\n",
       "  </thead>\n",
       "  <tbody>\n",
       "    <tr>\n",
       "      <th>0</th>\n",
       "      <td>Electric Vehicle Population Data</td>\n",
       "      <td>/dataset/electric-vehicle-population-data</td>\n",
       "      <td>State of Washington —</td>\n",
       "      <td>This dataset shows the Battery Electric Vehicl...</td>\n",
       "    </tr>\n",
       "    <tr>\n",
       "      <th>1</th>\n",
       "      <td>Crime Data from 2020 to Present</td>\n",
       "      <td>/dataset/crime-data-from-2020-to-present</td>\n",
       "      <td>City of Los Angeles —</td>\n",
       "      <td>Starting on March 7th, 2024, the Los Angeles P...</td>\n",
       "    </tr>\n",
       "    <tr>\n",
       "      <th>2</th>\n",
       "      <td>Air Quality</td>\n",
       "      <td>/dataset/air-quality</td>\n",
       "      <td>City of New York —</td>\n",
       "      <td>Dataset contains information on New York City ...</td>\n",
       "    </tr>\n",
       "    <tr>\n",
       "      <th>3</th>\n",
       "      <td>Lottery Mega Millions Winning Numbers: Beginni...</td>\n",
       "      <td>/dataset/lottery-mega-millions-winning-numbers...</td>\n",
       "      <td>State of New York —</td>\n",
       "      <td>Go to http://on.ny.gov/1J8tPSN on the New York...</td>\n",
       "    </tr>\n",
       "    <tr>\n",
       "      <th>4</th>\n",
       "      <td>Death rates for suicide, by sex, race, Hispani...</td>\n",
       "      <td>/dataset/death-rates-for-suicide-by-sex-race-h...</td>\n",
       "      <td>U.S. Department of Health &amp; Human Services —</td>\n",
       "      <td>Data on death rates for suicide, by selected p...</td>\n",
       "    </tr>\n",
       "  </tbody>\n",
       "</table>\n",
       "</div>"
      ],
      "text/plain": [
       "                                               title  \\\n",
       "0                   Electric Vehicle Population Data   \n",
       "1                    Crime Data from 2020 to Present   \n",
       "2                                        Air Quality   \n",
       "3  Lottery Mega Millions Winning Numbers: Beginni...   \n",
       "4  Death rates for suicide, by sex, race, Hispani...   \n",
       "\n",
       "                                                link  \\\n",
       "0          /dataset/electric-vehicle-population-data   \n",
       "1           /dataset/crime-data-from-2020-to-present   \n",
       "2                               /dataset/air-quality   \n",
       "3  /dataset/lottery-mega-millions-winning-numbers...   \n",
       "4  /dataset/death-rates-for-suicide-by-sex-race-h...   \n",
       "\n",
       "                                 datasetOrganiz  \\\n",
       "0                         State of Washington —   \n",
       "1                         City of Los Angeles —   \n",
       "2                            City of New York —   \n",
       "3                           State of New York —   \n",
       "4  U.S. Department of Health & Human Services —   \n",
       "\n",
       "                                         description  \n",
       "0  This dataset shows the Battery Electric Vehicl...  \n",
       "1  Starting on March 7th, 2024, the Los Angeles P...  \n",
       "2  Dataset contains information on New York City ...  \n",
       "3  Go to http://on.ny.gov/1J8tPSN on the New York...  \n",
       "4  Data on death rates for suicide, by selected p...  "
      ]
     },
     "execution_count": 6,
     "metadata": {},
     "output_type": "execute_result"
    }
   ],
   "source": [
    "df.head()"
   ]
  },
  {
   "cell_type": "code",
   "execution_count": 7,
   "metadata": {},
   "outputs": [
    {
     "data": {
      "text/plain": [
       "[Document(metadata={'title': 'Electric Vehicle Population Data'}, page_content='This dataset shows the Battery Electric Vehicles (BEVs) and Plug-in Hybrid Electric Vehicles (PHEVs) that are currently registered through Washington State Department...'),\n",
       " Document(metadata={'title': 'Crime Data from 2020 to Present'}, page_content='Starting on March 7th, 2024, the Los Angeles Police Department (LAPD) will adopt a new Records Management System for reporting crimes and arrests. This new system is...'),\n",
       " Document(metadata={'title': 'Air Quality'}, page_content='Dataset contains information on New York City air quality surveillance data. Air pollution is one of the most important environmental threats to urban populations...'),\n",
       " Document(metadata={'title': 'Lottery Mega Millions Winning Numbers: Beginning 2002'}, page_content='Go to http://on.ny.gov/1J8tPSN on the New York Lottery website for past Mega Millions results and payouts.'),\n",
       " Document(metadata={'title': 'Death rates for suicide, by sex, race, Hispanic origin, and age: United States'}, page_content='Data on death rates for suicide, by selected population characteristics. Please refer to the PDF or Excel version of this table in the HUS 2019 Data Finder...'),\n",
       " Document(metadata={'title': 'Real Estate Sales 2001-2022 GL'}, page_content='The Office of Policy and Management maintains a listing of all real estate sales with a sales price of $2,000 or greater that occur between October 1 and September 30...'),\n",
       " Document(metadata={'title': \"Alzheimer's Disease and Healthy Aging Data\"}, page_content='2015-2022. This data set contains data from BRFSS.'),\n",
       " Document(metadata={'title': 'Warehouse and Retail Sales'}, page_content='This dataset contains a list of sales and movement data by item and department appended monthly. Update Frequency : Monthly'),\n",
       " Document(metadata={'title': 'Motor Vehicle Collisions - Crashes'}, page_content='The Motor Vehicle Collisions crash table contains details on the crash event. Each row represents a crash event. The Motor Vehicle Collisions data tables contain...'),\n",
       " Document(metadata={'title': 'Border Crossing Entry Data'}, page_content='The Bureau of Transportation Statistics (BTS) Border Crossing Data provide summary statistics for inbound crossings at the U.S.-Canada and the U.S.-Mexico border at...'),\n",
       " Document(metadata={'title': 'U.S. Chronic Disease Indicators (CDI), 2023 Release'}, page_content='This dataset is based on indicators described in MMWR \"Indicators for Chronic Disease Surveillance — United States, 2013\"...'),\n",
       " Document(metadata={'title': 'Nutrition, Physical Activity, and Obesity - Behavioral Risk Factor Surveillance System'}, page_content=\"This dataset includes data on adult's diet, physical activity, and weight status from Behavioral Risk Factor Surveillance System. This data is used for DNPAO's Data,...\"),\n",
       " Document(metadata={'title': 'Lottery Powerball Winning Numbers: Beginning 2010'}, page_content='Go to http://on.ny.gov/1GpWiHD on the New York Lottery website for past Powerball results and payouts.'),\n",
       " Document(metadata={'title': 'Drug overdose death rates, by drug type, sex, age, race, and Hispanic origin: United States'}, page_content='Data on drug overdose death rates, by drug type and selected population characteristics. Please refer to the PDF or Excel version of this table in the HUS 2019 Data...'),\n",
       " Document(metadata={'title': 'Crash Reporting - Drivers Data'}, page_content='This dataset provides information on motor vehicle operators (drivers) involved in traffic collisions occurring on county and local roadways. The dataset reports...'),\n",
       " Document(metadata={'title': 'NCHS - Leading Causes of Death: United States'}, page_content='This dataset presents the age-adjusted death rates for the 10 leading causes of death in the United States beginning in 1999. Data are based on information from all...'),\n",
       " Document(metadata={'title': 'COVID-19 Outcomes by Vaccination Status - Historical'}, page_content='NOTE: This dataset has been retired and marked as historical-only. Weekly rates of COVID-19 cases, hospitalizations, and deaths among people living in Chicago by...'),\n",
       " Document(metadata={'title': 'Mental Health Care in the Last 4 Weeks'}, page_content='The U.S. Census Bureau, in collaboration with five federal agencies, launched the Household Pulse Survey to produce data on the social and economic impacts of...'),\n",
       " Document(metadata={'title': 'MVA Vehicle Sales Counts by Month for Calendar Year 2002 through September 2024'}, page_content='The number of new and used vehicles and the sales dollars respectively sold by month. MDOT MVA’s Customer Connect modernization project, implemented in July 2020, has...'),\n",
       " Document(metadata={'title': 'Popular Baby Names'}, page_content='Popular Baby Names by Sex and Ethnic Group Data were collected through civil birth registration. Each record represents the ranking of a baby name in the order of...')]"
      ]
     },
     "execution_count": 7,
     "metadata": {},
     "output_type": "execute_result"
    }
   ],
   "source": [
    "from langchain_core.documents import Document\n",
    "docs = [ Document(page_content=obj['description'], metadata={'title':obj['title']})  for obj in final_doc]\n",
    "docs"
   ]
  },
  {
   "cell_type": "code",
   "execution_count": 8,
   "metadata": {},
   "outputs": [
    {
     "ename": "DataAPIHttpException",
     "evalue": "Client error '401 Unauthorized' for url 'https://e02ce0af-b2bb-40d7-bb49-7085f29fb0ba-us-east-2.apps.astra.datastax.com/api/json/v1/default_keyspace'\nFor more information check: https://developer.mozilla.org/en-US/docs/Web/HTTP/Status/401",
     "output_type": "error",
     "traceback": [
      "\u001b[0;31m---------------------------------------------------------------------------\u001b[0m",
      "\u001b[0;31mHTTPStatusError\u001b[0m                           Traceback (most recent call last)",
      "File \u001b[0;32m~/Documents/dataset-recomender/genai/lib/python3.11/site-packages/astrapy/api_commander.py:272\u001b[0m, in \u001b[0;36mAPICommander.raw_request\u001b[0;34m(self, http_method, payload, additional_path, request_params, raise_api_errors, timeout_info)\u001b[0m\n\u001b[1;32m    271\u001b[0m \u001b[38;5;28;01mtry\u001b[39;00m:\n\u001b[0;32m--> 272\u001b[0m     \u001b[43mraw_response\u001b[49m\u001b[38;5;241;43m.\u001b[39;49m\u001b[43mraise_for_status\u001b[49m\u001b[43m(\u001b[49m\u001b[43m)\u001b[49m\n\u001b[1;32m    273\u001b[0m \u001b[38;5;28;01mexcept\u001b[39;00m httpx\u001b[38;5;241m.\u001b[39mHTTPStatusError \u001b[38;5;28;01mas\u001b[39;00m http_exc:\n",
      "File \u001b[0;32m~/Documents/dataset-recomender/genai/lib/python3.11/site-packages/httpx/_models.py:763\u001b[0m, in \u001b[0;36mResponse.raise_for_status\u001b[0;34m(self)\u001b[0m\n\u001b[1;32m    762\u001b[0m message \u001b[38;5;241m=\u001b[39m message\u001b[38;5;241m.\u001b[39mformat(\u001b[38;5;28mself\u001b[39m, error_type\u001b[38;5;241m=\u001b[39merror_type)\n\u001b[0;32m--> 763\u001b[0m \u001b[38;5;28;01mraise\u001b[39;00m HTTPStatusError(message, request\u001b[38;5;241m=\u001b[39mrequest, response\u001b[38;5;241m=\u001b[39m\u001b[38;5;28mself\u001b[39m)\n",
      "\u001b[0;31mHTTPStatusError\u001b[0m: Client error '401 Unauthorized' for url 'https://e02ce0af-b2bb-40d7-bb49-7085f29fb0ba-us-east-2.apps.astra.datastax.com/api/json/v1/default_keyspace'\nFor more information check: https://developer.mozilla.org/en-US/docs/Web/HTTP/Status/401",
      "\nDuring handling of the above exception, another exception occurred:\n",
      "\u001b[0;31mDataAPIHttpException\u001b[0m                      Traceback (most recent call last)",
      "File \u001b[0;32m~/Documents/dataset-recomender/genai/lib/python3.11/site-packages/langchain_astradb/utils/astradb.py:374\u001b[0m, in \u001b[0;36m_AstraDBCollectionEnvironment.__init__\u001b[0;34m(self, collection_name, token, api_endpoint, keyspace, environment, ext_callers, component_name, setup_mode, pre_delete_collection, embedding_dimension, metric, requested_indexing_policy, default_indexing_policy, collection_vector_service_options, collection_embedding_api_key, astra_db_client, async_astra_db_client)\u001b[0m\n\u001b[1;32m    373\u001b[0m \u001b[38;5;28;01mtry\u001b[39;00m:\n\u001b[0;32m--> 374\u001b[0m     \u001b[38;5;28;43mself\u001b[39;49m\u001b[38;5;241;43m.\u001b[39;49m\u001b[43mdatabase\u001b[49m\u001b[38;5;241;43m.\u001b[39;49m\u001b[43mcreate_collection\u001b[49m\u001b[43m(\u001b[49m\n\u001b[1;32m    375\u001b[0m \u001b[43m        \u001b[49m\u001b[43mname\u001b[49m\u001b[38;5;241;43m=\u001b[39;49m\u001b[43mcollection_name\u001b[49m\u001b[43m,\u001b[49m\n\u001b[1;32m    376\u001b[0m \u001b[43m        \u001b[49m\u001b[43mdimension\u001b[49m\u001b[38;5;241;43m=\u001b[39;49m\u001b[43membedding_dimension\u001b[49m\u001b[43m,\u001b[49m\u001b[43m  \u001b[49m\u001b[38;5;66;43;03m# type: ignore[arg-type]\u001b[39;49;00m\n\u001b[1;32m    377\u001b[0m \u001b[43m        \u001b[49m\u001b[43mmetric\u001b[49m\u001b[38;5;241;43m=\u001b[39;49m\u001b[43mmetric\u001b[49m\u001b[43m,\u001b[49m\n\u001b[1;32m    378\u001b[0m \u001b[43m        \u001b[49m\u001b[43mindexing\u001b[49m\u001b[38;5;241;43m=\u001b[39;49m\u001b[43mrequested_indexing_policy\u001b[49m\u001b[43m,\u001b[49m\n\u001b[1;32m    379\u001b[0m \u001b[43m        \u001b[49m\u001b[38;5;66;43;03m# Used for enabling $vectorize on the collection\u001b[39;49;00m\n\u001b[1;32m    380\u001b[0m \u001b[43m        \u001b[49m\u001b[43mservice\u001b[49m\u001b[38;5;241;43m=\u001b[39;49m\u001b[43mcollection_vector_service_options\u001b[49m\u001b[43m,\u001b[49m\n\u001b[1;32m    381\u001b[0m \u001b[43m        \u001b[49m\u001b[43mcheck_exists\u001b[49m\u001b[38;5;241;43m=\u001b[39;49m\u001b[38;5;28;43;01mFalse\u001b[39;49;00m\u001b[43m,\u001b[49m\n\u001b[1;32m    382\u001b[0m \u001b[43m    \u001b[49m\u001b[43m)\u001b[49m\n\u001b[1;32m    383\u001b[0m \u001b[38;5;28;01mexcept\u001b[39;00m DataAPIException \u001b[38;5;28;01mas\u001b[39;00m data_api_exception:\n\u001b[1;32m    384\u001b[0m     \u001b[38;5;66;03m# possibly the collection is preexisting and may have legacy,\u001b[39;00m\n\u001b[1;32m    385\u001b[0m     \u001b[38;5;66;03m# or custom, indexing settings: verify\u001b[39;00m\n",
      "File \u001b[0;32m~/Documents/dataset-recomender/genai/lib/python3.11/site-packages/astrapy/database.py:868\u001b[0m, in \u001b[0;36mDatabase.create_collection\u001b[0;34m(self, name, keyspace, namespace, dimension, metric, service, indexing, default_id_type, additional_options, check_exists, max_time_ms, embedding_api_key, collection_max_time_ms)\u001b[0m\n\u001b[1;32m    867\u001b[0m logger\u001b[38;5;241m.\u001b[39minfo(\u001b[38;5;124mf\u001b[39m\u001b[38;5;124m\"\u001b[39m\u001b[38;5;124mcreateCollection(\u001b[39m\u001b[38;5;124m'\u001b[39m\u001b[38;5;132;01m{\u001b[39;00mname\u001b[38;5;132;01m}\u001b[39;00m\u001b[38;5;124m'\u001b[39m\u001b[38;5;124m)\u001b[39m\u001b[38;5;124m\"\u001b[39m)\n\u001b[0;32m--> 868\u001b[0m \u001b[43mdriver_commander\u001b[49m\u001b[38;5;241;43m.\u001b[39;49m\u001b[43mrequest\u001b[49m\u001b[43m(\u001b[49m\n\u001b[1;32m    869\u001b[0m \u001b[43m    \u001b[49m\u001b[43mpayload\u001b[49m\u001b[38;5;241;43m=\u001b[39;49m\u001b[43mcc_payload\u001b[49m\u001b[43m,\u001b[49m\n\u001b[1;32m    870\u001b[0m \u001b[43m    \u001b[49m\u001b[43mtimeout_info\u001b[49m\u001b[38;5;241;43m=\u001b[39;49m\u001b[43mtimeout_manager\u001b[49m\u001b[38;5;241;43m.\u001b[39;49m\u001b[43mremaining_timeout_info\u001b[49m\u001b[43m(\u001b[49m\u001b[43m)\u001b[49m\u001b[43m,\u001b[49m\n\u001b[1;32m    871\u001b[0m \u001b[43m\u001b[49m\u001b[43m)\u001b[49m\n\u001b[1;32m    872\u001b[0m logger\u001b[38;5;241m.\u001b[39minfo(\u001b[38;5;124mf\u001b[39m\u001b[38;5;124m\"\u001b[39m\u001b[38;5;124mfinished createCollection(\u001b[39m\u001b[38;5;124m'\u001b[39m\u001b[38;5;132;01m{\u001b[39;00mname\u001b[38;5;132;01m}\u001b[39;00m\u001b[38;5;124m'\u001b[39m\u001b[38;5;124m)\u001b[39m\u001b[38;5;124m\"\u001b[39m)\n",
      "File \u001b[0;32m~/Documents/dataset-recomender/genai/lib/python3.11/site-packages/astrapy/api_commander.py:332\u001b[0m, in \u001b[0;36mAPICommander.request\u001b[0;34m(self, http_method, payload, additional_path, request_params, raise_api_errors, timeout_info)\u001b[0m\n\u001b[1;32m    322\u001b[0m \u001b[38;5;28;01mdef\u001b[39;00m \u001b[38;5;21mrequest\u001b[39m(\n\u001b[1;32m    323\u001b[0m     \u001b[38;5;28mself\u001b[39m,\n\u001b[1;32m    324\u001b[0m     \u001b[38;5;241m*\u001b[39m,\n\u001b[0;32m   (...)\u001b[0m\n\u001b[1;32m    330\u001b[0m     timeout_info: TimeoutInfoWideType \u001b[38;5;241m=\u001b[39m \u001b[38;5;28;01mNone\u001b[39;00m,\n\u001b[1;32m    331\u001b[0m ) \u001b[38;5;241m-\u001b[39m\u001b[38;5;241m>\u001b[39m \u001b[38;5;28mdict\u001b[39m[\u001b[38;5;28mstr\u001b[39m, Any]:\n\u001b[0;32m--> 332\u001b[0m     raw_response \u001b[38;5;241m=\u001b[39m \u001b[38;5;28;43mself\u001b[39;49m\u001b[38;5;241;43m.\u001b[39;49m\u001b[43mraw_request\u001b[49m\u001b[43m(\u001b[49m\n\u001b[1;32m    333\u001b[0m \u001b[43m        \u001b[49m\u001b[43mhttp_method\u001b[49m\u001b[38;5;241;43m=\u001b[39;49m\u001b[43mhttp_method\u001b[49m\u001b[43m,\u001b[49m\n\u001b[1;32m    334\u001b[0m \u001b[43m        \u001b[49m\u001b[43mpayload\u001b[49m\u001b[38;5;241;43m=\u001b[39;49m\u001b[43mpayload\u001b[49m\u001b[43m,\u001b[49m\n\u001b[1;32m    335\u001b[0m \u001b[43m        \u001b[49m\u001b[43madditional_path\u001b[49m\u001b[38;5;241;43m=\u001b[39;49m\u001b[43madditional_path\u001b[49m\u001b[43m,\u001b[49m\n\u001b[1;32m    336\u001b[0m \u001b[43m        \u001b[49m\u001b[43mrequest_params\u001b[49m\u001b[38;5;241;43m=\u001b[39;49m\u001b[43mrequest_params\u001b[49m\u001b[43m,\u001b[49m\n\u001b[1;32m    337\u001b[0m \u001b[43m        \u001b[49m\u001b[43mraise_api_errors\u001b[49m\u001b[38;5;241;43m=\u001b[39;49m\u001b[43mraise_api_errors\u001b[49m\u001b[43m,\u001b[49m\n\u001b[1;32m    338\u001b[0m \u001b[43m        \u001b[49m\u001b[43mtimeout_info\u001b[49m\u001b[38;5;241;43m=\u001b[39;49m\u001b[43mtimeout_info\u001b[49m\u001b[43m,\u001b[49m\n\u001b[1;32m    339\u001b[0m \u001b[43m    \u001b[49m\u001b[43m)\u001b[49m\n\u001b[1;32m    340\u001b[0m     \u001b[38;5;28;01mreturn\u001b[39;00m \u001b[38;5;28mself\u001b[39m\u001b[38;5;241m.\u001b[39m_raw_response_to_json(\n\u001b[1;32m    341\u001b[0m         raw_response, raise_api_errors\u001b[38;5;241m=\u001b[39mraise_api_errors, payload\u001b[38;5;241m=\u001b[39mpayload\n\u001b[1;32m    342\u001b[0m     )\n",
      "File \u001b[0;32m~/Documents/dataset-recomender/genai/lib/python3.11/site-packages/astrapy/api_commander.py:274\u001b[0m, in \u001b[0;36mAPICommander.raw_request\u001b[0;34m(self, http_method, payload, additional_path, request_params, raise_api_errors, timeout_info)\u001b[0m\n\u001b[1;32m    273\u001b[0m \u001b[38;5;28;01mexcept\u001b[39;00m httpx\u001b[38;5;241m.\u001b[39mHTTPStatusError \u001b[38;5;28;01mas\u001b[39;00m http_exc:\n\u001b[0;32m--> 274\u001b[0m     \u001b[38;5;28;01mraise\u001b[39;00m \u001b[38;5;28mself\u001b[39m\u001b[38;5;241m.\u001b[39m_http_exc_class\u001b[38;5;241m.\u001b[39mfrom_httpx_error(http_exc)\n\u001b[1;32m    275\u001b[0m log_httpx_response(response\u001b[38;5;241m=\u001b[39mraw_response)\n",
      "\u001b[0;31mDataAPIHttpException\u001b[0m: Client error '401 Unauthorized' for url 'https://e02ce0af-b2bb-40d7-bb49-7085f29fb0ba-us-east-2.apps.astra.datastax.com/api/json/v1/default_keyspace'\nFor more information check: https://developer.mozilla.org/en-US/docs/Web/HTTP/Status/401",
      "\nDuring handling of the above exception, another exception occurred:\n",
      "\u001b[0;31mHTTPStatusError\u001b[0m                           Traceback (most recent call last)",
      "File \u001b[0;32m~/Documents/dataset-recomender/genai/lib/python3.11/site-packages/astrapy/api_commander.py:272\u001b[0m, in \u001b[0;36mAPICommander.raw_request\u001b[0;34m(self, http_method, payload, additional_path, request_params, raise_api_errors, timeout_info)\u001b[0m\n\u001b[1;32m    271\u001b[0m \u001b[38;5;28;01mtry\u001b[39;00m:\n\u001b[0;32m--> 272\u001b[0m     \u001b[43mraw_response\u001b[49m\u001b[38;5;241;43m.\u001b[39;49m\u001b[43mraise_for_status\u001b[49m\u001b[43m(\u001b[49m\u001b[43m)\u001b[49m\n\u001b[1;32m    273\u001b[0m \u001b[38;5;28;01mexcept\u001b[39;00m httpx\u001b[38;5;241m.\u001b[39mHTTPStatusError \u001b[38;5;28;01mas\u001b[39;00m http_exc:\n",
      "File \u001b[0;32m~/Documents/dataset-recomender/genai/lib/python3.11/site-packages/httpx/_models.py:763\u001b[0m, in \u001b[0;36mResponse.raise_for_status\u001b[0;34m(self)\u001b[0m\n\u001b[1;32m    762\u001b[0m message \u001b[38;5;241m=\u001b[39m message\u001b[38;5;241m.\u001b[39mformat(\u001b[38;5;28mself\u001b[39m, error_type\u001b[38;5;241m=\u001b[39merror_type)\n\u001b[0;32m--> 763\u001b[0m \u001b[38;5;28;01mraise\u001b[39;00m HTTPStatusError(message, request\u001b[38;5;241m=\u001b[39mrequest, response\u001b[38;5;241m=\u001b[39m\u001b[38;5;28mself\u001b[39m)\n",
      "\u001b[0;31mHTTPStatusError\u001b[0m: Client error '401 Unauthorized' for url 'https://e02ce0af-b2bb-40d7-bb49-7085f29fb0ba-us-east-2.apps.astra.datastax.com/api/json/v1/default_keyspace'\nFor more information check: https://developer.mozilla.org/en-US/docs/Web/HTTP/Status/401",
      "\nDuring handling of the above exception, another exception occurred:\n",
      "\u001b[0;31mDataAPIHttpException\u001b[0m                      Traceback (most recent call last)",
      "Cell \u001b[0;32mIn[8], line 4\u001b[0m\n\u001b[1;32m      2\u001b[0m embeddings \u001b[38;5;241m=\u001b[39m HuggingFaceInferenceAPIEmbeddings(api_key\u001b[38;5;241m=\u001b[39m HF_TOKEN, model_name\u001b[38;5;241m=\u001b[39m \u001b[38;5;124m\"\u001b[39m\u001b[38;5;124mBAAI/bge-base-en-v1.5\u001b[39m\u001b[38;5;124m\"\u001b[39m)\n\u001b[1;32m      3\u001b[0m \u001b[38;5;28;01mfrom\u001b[39;00m \u001b[38;5;21;01mlangchain_astradb\u001b[39;00m \u001b[38;5;28;01mimport\u001b[39;00m AstraDBVectorStore\n\u001b[0;32m----> 4\u001b[0m vstore \u001b[38;5;241m=\u001b[39m \u001b[43mAstraDBVectorStore\u001b[49m\u001b[43m(\u001b[49m\n\u001b[1;32m      5\u001b[0m \u001b[43m    \u001b[49m\u001b[43membedding\u001b[49m\u001b[38;5;241;43m=\u001b[39;49m\u001b[43m \u001b[49m\u001b[43membeddings\u001b[49m\u001b[43m,\u001b[49m\n\u001b[1;32m      6\u001b[0m \u001b[43m    \u001b[49m\u001b[43mcollection_name\u001b[49m\u001b[38;5;241;43m=\u001b[39;49m\u001b[43m \u001b[49m\u001b[38;5;124;43m\"\u001b[39;49m\u001b[38;5;124;43mdatasetaggregator\u001b[39;49m\u001b[38;5;124;43m\"\u001b[39;49m\u001b[43m,\u001b[49m\n\u001b[1;32m      7\u001b[0m \u001b[43m    \u001b[49m\u001b[43mapi_endpoint\u001b[49m\u001b[43m \u001b[49m\u001b[38;5;241;43m=\u001b[39;49m\u001b[43m \u001b[49m\u001b[43mASTRA_DB_API_ENDPOINT\u001b[49m\u001b[43m,\u001b[49m\n\u001b[1;32m      8\u001b[0m \u001b[43m    \u001b[49m\u001b[43mtoken\u001b[49m\u001b[43m \u001b[49m\u001b[38;5;241;43m=\u001b[39;49m\u001b[43m \u001b[49m\u001b[43mASTRA_DB_APPLICATION_TOKEN\u001b[49m\u001b[43m,\u001b[49m\n\u001b[1;32m      9\u001b[0m \u001b[43m    \u001b[49m\u001b[43mnamespace\u001b[49m\u001b[43m \u001b[49m\u001b[38;5;241;43m=\u001b[39;49m\u001b[43m \u001b[49m\u001b[43mASTRA_DB_KEYSPACE\u001b[49m\n\u001b[1;32m     10\u001b[0m \u001b[43m)\u001b[49m\n",
      "File \u001b[0;32m~/Documents/dataset-recomender/genai/lib/python3.11/site-packages/langchain_astradb/vectorstores.py:657\u001b[0m, in \u001b[0;36mAstraDBVectorStore.__init__\u001b[0;34m(self, collection_name, embedding, token, api_endpoint, environment, namespace, metric, batch_size, bulk_insert_batch_concurrency, bulk_insert_overwrite_concurrency, bulk_delete_concurrency, setup_mode, pre_delete_collection, metadata_indexing_include, metadata_indexing_exclude, collection_indexing_policy, collection_vector_service_options, collection_embedding_api_key, content_field, ignore_invalid_documents, autodetect_collection, ext_callers, component_name, astra_db_client, async_astra_db_client)\u001b[0m\n\u001b[1;32m    654\u001b[0m     msg \u001b[38;5;241m=\u001b[39m \u001b[38;5;124m\"\u001b[39m\u001b[38;5;124mEmbedding API Key cannot be provided for non-vectorize collections.\u001b[39m\u001b[38;5;124m\"\u001b[39m\n\u001b[1;32m    655\u001b[0m     \u001b[38;5;28;01mraise\u001b[39;00m \u001b[38;5;167;01mValueError\u001b[39;00m(msg)\n\u001b[0;32m--> 657\u001b[0m \u001b[38;5;28mself\u001b[39m\u001b[38;5;241m.\u001b[39mastra_env \u001b[38;5;241m=\u001b[39m \u001b[43m_AstraDBCollectionEnvironment\u001b[49m\u001b[43m(\u001b[49m\n\u001b[1;32m    658\u001b[0m \u001b[43m    \u001b[49m\u001b[43mcollection_name\u001b[49m\u001b[38;5;241;43m=\u001b[39;49m\u001b[43mcollection_name\u001b[49m\u001b[43m,\u001b[49m\n\u001b[1;32m    659\u001b[0m \u001b[43m    \u001b[49m\u001b[43mtoken\u001b[49m\u001b[38;5;241;43m=\u001b[39;49m\u001b[38;5;28;43mself\u001b[39;49m\u001b[38;5;241;43m.\u001b[39;49m\u001b[43mtoken\u001b[49m\u001b[43m,\u001b[49m\n\u001b[1;32m    660\u001b[0m \u001b[43m    \u001b[49m\u001b[43mapi_endpoint\u001b[49m\u001b[38;5;241;43m=\u001b[39;49m\u001b[38;5;28;43mself\u001b[39;49m\u001b[38;5;241;43m.\u001b[39;49m\u001b[43mapi_endpoint\u001b[49m\u001b[43m,\u001b[49m\n\u001b[1;32m    661\u001b[0m \u001b[43m    \u001b[49m\u001b[43mkeyspace\u001b[49m\u001b[38;5;241;43m=\u001b[39;49m\u001b[38;5;28;43mself\u001b[39;49m\u001b[38;5;241;43m.\u001b[39;49m\u001b[43mnamespace\u001b[49m\u001b[43m,\u001b[49m\n\u001b[1;32m    662\u001b[0m \u001b[43m    \u001b[49m\u001b[43menvironment\u001b[49m\u001b[38;5;241;43m=\u001b[39;49m\u001b[38;5;28;43mself\u001b[39;49m\u001b[38;5;241;43m.\u001b[39;49m\u001b[43menvironment\u001b[49m\u001b[43m,\u001b[49m\n\u001b[1;32m    663\u001b[0m \u001b[43m    \u001b[49m\u001b[43msetup_mode\u001b[49m\u001b[38;5;241;43m=\u001b[39;49m\u001b[43m_setup_mode\u001b[49m\u001b[43m,\u001b[49m\n\u001b[1;32m    664\u001b[0m \u001b[43m    \u001b[49m\u001b[43mpre_delete_collection\u001b[49m\u001b[38;5;241;43m=\u001b[39;49m\u001b[43mpre_delete_collection\u001b[49m\u001b[43m,\u001b[49m\n\u001b[1;32m    665\u001b[0m \u001b[43m    \u001b[49m\u001b[43membedding_dimension\u001b[49m\u001b[38;5;241;43m=\u001b[39;49m\u001b[43m_embedding_dimension\u001b[49m\u001b[43m,\u001b[49m\n\u001b[1;32m    666\u001b[0m \u001b[43m    \u001b[49m\u001b[43mmetric\u001b[49m\u001b[38;5;241;43m=\u001b[39;49m\u001b[38;5;28;43mself\u001b[39;49m\u001b[38;5;241;43m.\u001b[39;49m\u001b[43mmetric\u001b[49m\u001b[43m,\u001b[49m\n\u001b[1;32m    667\u001b[0m \u001b[43m    \u001b[49m\u001b[43mrequested_indexing_policy\u001b[49m\u001b[38;5;241;43m=\u001b[39;49m\u001b[38;5;28;43mself\u001b[39;49m\u001b[38;5;241;43m.\u001b[39;49m\u001b[43mindexing_policy\u001b[49m\u001b[43m,\u001b[49m\n\u001b[1;32m    668\u001b[0m \u001b[43m    \u001b[49m\u001b[43mdefault_indexing_policy\u001b[49m\u001b[38;5;241;43m=\u001b[39;49m\u001b[43mDEFAULT_INDEXING_OPTIONS\u001b[49m\u001b[43m,\u001b[49m\n\u001b[1;32m    669\u001b[0m \u001b[43m    \u001b[49m\u001b[43mcollection_vector_service_options\u001b[49m\u001b[38;5;241;43m=\u001b[39;49m\u001b[38;5;28;43mself\u001b[39;49m\u001b[38;5;241;43m.\u001b[39;49m\u001b[43mcollection_vector_service_options\u001b[49m\u001b[43m,\u001b[49m\n\u001b[1;32m    670\u001b[0m \u001b[43m    \u001b[49m\u001b[43mcollection_embedding_api_key\u001b[49m\u001b[38;5;241;43m=\u001b[39;49m\u001b[38;5;28;43mself\u001b[39;49m\u001b[38;5;241;43m.\u001b[39;49m\u001b[43mcollection_embedding_api_key\u001b[49m\u001b[43m,\u001b[49m\n\u001b[1;32m    671\u001b[0m \u001b[43m    \u001b[49m\u001b[43mext_callers\u001b[49m\u001b[38;5;241;43m=\u001b[39;49m\u001b[43mext_callers\u001b[49m\u001b[43m,\u001b[49m\n\u001b[1;32m    672\u001b[0m \u001b[43m    \u001b[49m\u001b[43mcomponent_name\u001b[49m\u001b[38;5;241;43m=\u001b[39;49m\u001b[43mcomponent_name\u001b[49m\u001b[43m,\u001b[49m\n\u001b[1;32m    673\u001b[0m \u001b[43m    \u001b[49m\u001b[43mastra_db_client\u001b[49m\u001b[38;5;241;43m=\u001b[39;49m\u001b[43mastra_db_client\u001b[49m\u001b[43m,\u001b[49m\n\u001b[1;32m    674\u001b[0m \u001b[43m    \u001b[49m\u001b[43masync_astra_db_client\u001b[49m\u001b[38;5;241;43m=\u001b[39;49m\u001b[43masync_astra_db_client\u001b[49m\u001b[43m,\u001b[49m\n\u001b[1;32m    675\u001b[0m \u001b[43m\u001b[49m\u001b[43m)\u001b[49m\n",
      "File \u001b[0;32m~/Documents/dataset-recomender/genai/lib/python3.11/site-packages/langchain_astradb/utils/astradb.py:386\u001b[0m, in \u001b[0;36m_AstraDBCollectionEnvironment.__init__\u001b[0;34m(self, collection_name, token, api_endpoint, keyspace, environment, ext_callers, component_name, setup_mode, pre_delete_collection, embedding_dimension, metric, requested_indexing_policy, default_indexing_policy, collection_vector_service_options, collection_embedding_api_key, astra_db_client, async_astra_db_client)\u001b[0m\n\u001b[1;32m    374\u001b[0m     \u001b[38;5;28mself\u001b[39m\u001b[38;5;241m.\u001b[39mdatabase\u001b[38;5;241m.\u001b[39mcreate_collection(\n\u001b[1;32m    375\u001b[0m         name\u001b[38;5;241m=\u001b[39mcollection_name,\n\u001b[1;32m    376\u001b[0m         dimension\u001b[38;5;241m=\u001b[39membedding_dimension,  \u001b[38;5;66;03m# type: ignore[arg-type]\u001b[39;00m\n\u001b[0;32m   (...)\u001b[0m\n\u001b[1;32m    381\u001b[0m         check_exists\u001b[38;5;241m=\u001b[39m\u001b[38;5;28;01mFalse\u001b[39;00m,\n\u001b[1;32m    382\u001b[0m     )\n\u001b[1;32m    383\u001b[0m \u001b[38;5;28;01mexcept\u001b[39;00m DataAPIException \u001b[38;5;28;01mas\u001b[39;00m data_api_exception:\n\u001b[1;32m    384\u001b[0m     \u001b[38;5;66;03m# possibly the collection is preexisting and may have legacy,\u001b[39;00m\n\u001b[1;32m    385\u001b[0m     \u001b[38;5;66;03m# or custom, indexing settings: verify\u001b[39;00m\n\u001b[0;32m--> 386\u001b[0m     collection_descriptors \u001b[38;5;241m=\u001b[39m \u001b[38;5;28mlist\u001b[39m(\u001b[38;5;28;43mself\u001b[39;49m\u001b[38;5;241;43m.\u001b[39;49m\u001b[43mdatabase\u001b[49m\u001b[38;5;241;43m.\u001b[39;49m\u001b[43mlist_collections\u001b[49m\u001b[43m(\u001b[49m\u001b[43m)\u001b[49m)\n\u001b[1;32m    387\u001b[0m     \u001b[38;5;28;01mtry\u001b[39;00m:\n\u001b[1;32m    388\u001b[0m         \u001b[38;5;28;01mif\u001b[39;00m \u001b[38;5;129;01mnot\u001b[39;00m \u001b[38;5;28mself\u001b[39m\u001b[38;5;241m.\u001b[39m_validate_indexing_policy(\n\u001b[1;32m    389\u001b[0m             collection_descriptors\u001b[38;5;241m=\u001b[39mcollection_descriptors,\n\u001b[1;32m    390\u001b[0m             collection_name\u001b[38;5;241m=\u001b[39m\u001b[38;5;28mself\u001b[39m\u001b[38;5;241m.\u001b[39mcollection_name,\n\u001b[1;32m    391\u001b[0m             requested_indexing_policy\u001b[38;5;241m=\u001b[39mrequested_indexing_policy,\n\u001b[1;32m    392\u001b[0m             default_indexing_policy\u001b[38;5;241m=\u001b[39mdefault_indexing_policy,\n\u001b[1;32m    393\u001b[0m         ):\n",
      "File \u001b[0;32m~/Documents/dataset-recomender/genai/lib/python3.11/site-packages/astrapy/database.py:971\u001b[0m, in \u001b[0;36mDatabase.list_collections\u001b[0;34m(self, keyspace, namespace, max_time_ms)\u001b[0m\n\u001b[1;32m    969\u001b[0m gc_payload \u001b[38;5;241m=\u001b[39m {\u001b[38;5;124m\"\u001b[39m\u001b[38;5;124mfindCollections\u001b[39m\u001b[38;5;124m\"\u001b[39m: {\u001b[38;5;124m\"\u001b[39m\u001b[38;5;124moptions\u001b[39m\u001b[38;5;124m\"\u001b[39m: {\u001b[38;5;124m\"\u001b[39m\u001b[38;5;124mexplain\u001b[39m\u001b[38;5;124m\"\u001b[39m: \u001b[38;5;28;01mTrue\u001b[39;00m}}}\n\u001b[1;32m    970\u001b[0m logger\u001b[38;5;241m.\u001b[39minfo(\u001b[38;5;124m\"\u001b[39m\u001b[38;5;124mfindCollections\u001b[39m\u001b[38;5;124m\"\u001b[39m)\n\u001b[0;32m--> 971\u001b[0m gc_response \u001b[38;5;241m=\u001b[39m \u001b[43mdriver_commander\u001b[49m\u001b[38;5;241;43m.\u001b[39;49m\u001b[43mrequest\u001b[49m\u001b[43m(\u001b[49m\n\u001b[1;32m    972\u001b[0m \u001b[43m    \u001b[49m\u001b[43mpayload\u001b[49m\u001b[38;5;241;43m=\u001b[39;49m\u001b[43mgc_payload\u001b[49m\u001b[43m,\u001b[49m\n\u001b[1;32m    973\u001b[0m \u001b[43m    \u001b[49m\u001b[43mtimeout_info\u001b[49m\u001b[38;5;241;43m=\u001b[39;49m\u001b[43mbase_timeout_info\u001b[49m\u001b[43m(\u001b[49m\u001b[43mmax_time_ms\u001b[49m\u001b[43m)\u001b[49m\u001b[43m,\u001b[49m\n\u001b[1;32m    974\u001b[0m \u001b[43m\u001b[49m\u001b[43m)\u001b[49m\n\u001b[1;32m    975\u001b[0m \u001b[38;5;28;01mif\u001b[39;00m \u001b[38;5;124m\"\u001b[39m\u001b[38;5;124mcollections\u001b[39m\u001b[38;5;124m\"\u001b[39m \u001b[38;5;129;01mnot\u001b[39;00m \u001b[38;5;129;01min\u001b[39;00m gc_response\u001b[38;5;241m.\u001b[39mget(\u001b[38;5;124m\"\u001b[39m\u001b[38;5;124mstatus\u001b[39m\u001b[38;5;124m\"\u001b[39m, {}):\n\u001b[1;32m    976\u001b[0m     \u001b[38;5;28;01mraise\u001b[39;00m DataAPIFaultyResponseException(\n\u001b[1;32m    977\u001b[0m         text\u001b[38;5;241m=\u001b[39m\u001b[38;5;124m\"\u001b[39m\u001b[38;5;124mFaulty response from get_collections API command.\u001b[39m\u001b[38;5;124m\"\u001b[39m,\n\u001b[1;32m    978\u001b[0m         raw_response\u001b[38;5;241m=\u001b[39mgc_response,\n\u001b[1;32m    979\u001b[0m     )\n",
      "File \u001b[0;32m~/Documents/dataset-recomender/genai/lib/python3.11/site-packages/astrapy/api_commander.py:332\u001b[0m, in \u001b[0;36mAPICommander.request\u001b[0;34m(self, http_method, payload, additional_path, request_params, raise_api_errors, timeout_info)\u001b[0m\n\u001b[1;32m    322\u001b[0m \u001b[38;5;28;01mdef\u001b[39;00m \u001b[38;5;21mrequest\u001b[39m(\n\u001b[1;32m    323\u001b[0m     \u001b[38;5;28mself\u001b[39m,\n\u001b[1;32m    324\u001b[0m     \u001b[38;5;241m*\u001b[39m,\n\u001b[0;32m   (...)\u001b[0m\n\u001b[1;32m    330\u001b[0m     timeout_info: TimeoutInfoWideType \u001b[38;5;241m=\u001b[39m \u001b[38;5;28;01mNone\u001b[39;00m,\n\u001b[1;32m    331\u001b[0m ) \u001b[38;5;241m-\u001b[39m\u001b[38;5;241m>\u001b[39m \u001b[38;5;28mdict\u001b[39m[\u001b[38;5;28mstr\u001b[39m, Any]:\n\u001b[0;32m--> 332\u001b[0m     raw_response \u001b[38;5;241m=\u001b[39m \u001b[38;5;28;43mself\u001b[39;49m\u001b[38;5;241;43m.\u001b[39;49m\u001b[43mraw_request\u001b[49m\u001b[43m(\u001b[49m\n\u001b[1;32m    333\u001b[0m \u001b[43m        \u001b[49m\u001b[43mhttp_method\u001b[49m\u001b[38;5;241;43m=\u001b[39;49m\u001b[43mhttp_method\u001b[49m\u001b[43m,\u001b[49m\n\u001b[1;32m    334\u001b[0m \u001b[43m        \u001b[49m\u001b[43mpayload\u001b[49m\u001b[38;5;241;43m=\u001b[39;49m\u001b[43mpayload\u001b[49m\u001b[43m,\u001b[49m\n\u001b[1;32m    335\u001b[0m \u001b[43m        \u001b[49m\u001b[43madditional_path\u001b[49m\u001b[38;5;241;43m=\u001b[39;49m\u001b[43madditional_path\u001b[49m\u001b[43m,\u001b[49m\n\u001b[1;32m    336\u001b[0m \u001b[43m        \u001b[49m\u001b[43mrequest_params\u001b[49m\u001b[38;5;241;43m=\u001b[39;49m\u001b[43mrequest_params\u001b[49m\u001b[43m,\u001b[49m\n\u001b[1;32m    337\u001b[0m \u001b[43m        \u001b[49m\u001b[43mraise_api_errors\u001b[49m\u001b[38;5;241;43m=\u001b[39;49m\u001b[43mraise_api_errors\u001b[49m\u001b[43m,\u001b[49m\n\u001b[1;32m    338\u001b[0m \u001b[43m        \u001b[49m\u001b[43mtimeout_info\u001b[49m\u001b[38;5;241;43m=\u001b[39;49m\u001b[43mtimeout_info\u001b[49m\u001b[43m,\u001b[49m\n\u001b[1;32m    339\u001b[0m \u001b[43m    \u001b[49m\u001b[43m)\u001b[49m\n\u001b[1;32m    340\u001b[0m     \u001b[38;5;28;01mreturn\u001b[39;00m \u001b[38;5;28mself\u001b[39m\u001b[38;5;241m.\u001b[39m_raw_response_to_json(\n\u001b[1;32m    341\u001b[0m         raw_response, raise_api_errors\u001b[38;5;241m=\u001b[39mraise_api_errors, payload\u001b[38;5;241m=\u001b[39mpayload\n\u001b[1;32m    342\u001b[0m     )\n",
      "File \u001b[0;32m~/Documents/dataset-recomender/genai/lib/python3.11/site-packages/astrapy/api_commander.py:274\u001b[0m, in \u001b[0;36mAPICommander.raw_request\u001b[0;34m(self, http_method, payload, additional_path, request_params, raise_api_errors, timeout_info)\u001b[0m\n\u001b[1;32m    272\u001b[0m     raw_response\u001b[38;5;241m.\u001b[39mraise_for_status()\n\u001b[1;32m    273\u001b[0m \u001b[38;5;28;01mexcept\u001b[39;00m httpx\u001b[38;5;241m.\u001b[39mHTTPStatusError \u001b[38;5;28;01mas\u001b[39;00m http_exc:\n\u001b[0;32m--> 274\u001b[0m     \u001b[38;5;28;01mraise\u001b[39;00m \u001b[38;5;28mself\u001b[39m\u001b[38;5;241m.\u001b[39m_http_exc_class\u001b[38;5;241m.\u001b[39mfrom_httpx_error(http_exc)\n\u001b[1;32m    275\u001b[0m log_httpx_response(response\u001b[38;5;241m=\u001b[39mraw_response)\n\u001b[1;32m    276\u001b[0m \u001b[38;5;28;01mreturn\u001b[39;00m raw_response\n",
      "\u001b[0;31mDataAPIHttpException\u001b[0m: Client error '401 Unauthorized' for url 'https://e02ce0af-b2bb-40d7-bb49-7085f29fb0ba-us-east-2.apps.astra.datastax.com/api/json/v1/default_keyspace'\nFor more information check: https://developer.mozilla.org/en-US/docs/Web/HTTP/Status/401"
     ]
    }
   ],
   "source": [
    "from langchain_community.embeddings import HuggingFaceInferenceAPIEmbeddings\n",
    "embeddings = HuggingFaceInferenceAPIEmbeddings(api_key= HF_TOKEN, model_name= \"BAAI/bge-base-en-v1.5\")\n",
    "from langchain_astradb import AstraDBVectorStore\n",
    "vstore = AstraDBVectorStore(\n",
    "    embedding= embeddings,\n",
    "    collection_name= \"datasetaggregator\",\n",
    "    api_endpoint = ASTRA_DB_API_ENDPOINT,\n",
    "    token = ASTRA_DB_APPLICATION_TOKEN,\n",
    "    namespace = ASTRA_DB_KEYSPACE\n",
    ")"
   ]
  },
  {
   "cell_type": "code",
   "execution_count": 95,
   "metadata": {},
   "outputs": [],
   "source": [
    "insert_ids = vstore.add_documents(docs)"
   ]
  },
  {
   "cell_type": "code",
   "execution_count": 96,
   "metadata": {},
   "outputs": [],
   "source": [
    "from langchain_groq import ChatGroq\n",
    "from langchain.chains import create_retrieval_chain\n",
    "from langchain.chains.combine_documents import create_stuff_documents_chain\n",
    "from langchain_core.prompts import MessagesPlaceholder\n",
    "from langchain.chains import create_history_aware_retriever\n",
    "model = ChatGroq(groq_api_key = GROQ_API, model=\"llama-3.1-70b-versatile\", temperature=0.5)"
   ]
  },
  {
   "cell_type": "code",
   "execution_count": 97,
   "metadata": {},
   "outputs": [],
   "source": [
    "retriever_prompt = (\"Given a chat history and the latest user question which might reference context in the chat history,\"\n",
    "    \"formulate a standalone question which can be understood without the chat history.\"\n",
    "    \"Do NOT answer the question, just reformulate it if needed and otherwise return it as is.\"\n",
    "    )\n",
    "retriever = vstore.as_retriever(search_kwargs={\"k\": 3})\n",
    "from langchain_core.prompts import ChatPromptTemplate\n",
    "contextualize_q_prompt = ChatPromptTemplate.from_messages(\n",
    "    [\n",
    "    (\"system\", retriever_prompt),\n",
    "    MessagesPlaceholder(variable_name=\"chat_history\"),\n",
    "    (\"human\", \"{input}\"),\n",
    "    ]\n",
    ")\n",
    "history_aware_retriever = create_history_aware_retriever(model, retriever, contextualize_q_prompt)"
   ]
  },
  {
   "cell_type": "code",
   "execution_count": 98,
   "metadata": {},
   "outputs": [],
   "source": [
    "DATASET_BOT_TEMPLATE = \"\"\"\n",
    "    You are an expert bot for providing insights about datasets.\n",
    "    Your role is to analyze dataset titles and descriptions to help users find relevant information and answer their queries accurately.\n",
    "    Ensure your responses are concise, informative, and remain focused on the context of the dataset.\n",
    "    Avoid providing irrelevant or off-topic information.\n",
    "\n",
    "    CONTEXT:\n",
    "    {context}\n",
    "\n",
    "    QUESTION: {input}\n",
    "\n",
    "    YOUR ANSWER:\n",
    "    \"\"\"\n",
    "qa_prompt = ChatPromptTemplate.from_messages(\n",
    "    [\n",
    "        (\"system\", DATASET_BOT_TEMPLATE),\n",
    "        MessagesPlaceholder(variable_name=\"chat_history\"),\n",
    "        (\"human\", \"{input}\")\n",
    "    ]\n",
    ")"
   ]
  },
  {
   "cell_type": "code",
   "execution_count": 99,
   "metadata": {},
   "outputs": [],
   "source": [
    "question_answer_chain = create_stuff_documents_chain(model, qa_prompt)\n",
    "chain = create_retrieval_chain(history_aware_retriever, question_answer_chain)\n",
    "chat_history = []\n",
    "from langchain_community.chat_message_histories import ChatMessageHistory\n",
    "from langchain_core.chat_history import BaseChatMessageHistory\n",
    "from langchain_core.runnables.history import RunnableWithMessageHistory\n",
    "store = {}"
   ]
  },
  {
   "cell_type": "code",
   "execution_count": 100,
   "metadata": {},
   "outputs": [],
   "source": [
    "def get_session_history(session_id: str)-> BaseChatMessageHistory:\n",
    "  if session_id not in store:\n",
    "    store[session_id]= ChatMessageHistory()\n",
    "  return store[session_id]"
   ]
  },
  {
   "cell_type": "code",
   "execution_count": 101,
   "metadata": {},
   "outputs": [],
   "source": [
    "chain_with_memmory = RunnableWithMessageHistory(\n",
    "    chain,\n",
    "    get_session_history,\n",
    "    input_messages_key=\"input\",\n",
    "    history_messages_key=\"chat_history\",\n",
    "    output_messages_key=\"answer\",\n",
    ")"
   ]
  },
  {
   "cell_type": "code",
   "execution_count": 102,
   "metadata": {},
   "outputs": [
    {
     "data": {
      "text/plain": [
       "'No, this dataset does not appear to be related to electric information, but rather focuses on air quality surveillance data in New York City.'"
      ]
     },
     "execution_count": 102,
     "metadata": {},
     "output_type": "execute_result"
    }
   ],
   "source": [
    "chain_with_memmory.invoke(\n",
    "   {\"input\": \"can you tell me the dataset to choose relate to electric?\"},\n",
    "    config={\n",
    "        \"configurable\": {\"session_id\": \"shuvo\"}\n",
    "    },\n",
    ")[\"answer\"]"
   ]
  },
  {
   "cell_type": "code",
   "execution_count": 5,
   "metadata": {},
   "outputs": [
    {
     "name": "stderr",
     "output_type": "stream",
     "text": [
      "huggingface/tokenizers: The current process just got forked, after parallelism has already been used. Disabling parallelism to avoid deadlocks...\n",
      "To disable this warning, you can either:\n",
      "\t- Avoid using `tokenizers` before the fork if possible\n",
      "\t- Explicitly set the environment variable TOKENIZERS_PARALLELISM=(true | false)\n"
     ]
    },
    {
     "name": "stdout",
     "output_type": "stream",
     "text": [
      "Translated text in Malayalam: നീ ഉറങ്ങിയിരുന്നോ?\n"
     ]
    }
   ],
   "source": [
    "import torch\n",
    "from transformers import AutoModelForSeq2SeqLM, AutoTokenizer\n",
    "device = \"mps\" if torch.backends.mps.is_available() else \"cpu\"\n",
    "model = AutoModelForSeq2SeqLM.from_pretrained(\n",
    "    \"facebook/nllb-200-distilled-600M\", \n",
    "    torch_dtype=torch.float16\n",
    ")\n",
    "model = model.to(device).eval()\n",
    "tokenizer = AutoTokenizer.from_pretrained(\"facebook/nllb-200-distilled-600M\")\n",
    "english_sentence = \"did you sleep?\"\n",
    "inputs = tokenizer(english_sentence, return_tensors=\"pt\").to(device)\n",
    "translated_tokens = model.generate(\n",
    "    **inputs, \n",
    "    forced_bos_token_id=tokenizer.convert_tokens_to_ids(\"mal_Mlym\"), \n",
    "    max_length=50\n",
    ")\n",
    "translation = tokenizer.batch_decode(translated_tokens, skip_special_tokens=True)[0]\n",
    "print(\"Translated text in Malayalam:\", translation)"
   ]
  }
 ],
 "metadata": {
  "kernelspec": {
   "display_name": "genai",
   "language": "python",
   "name": "python3"
  },
  "language_info": {
   "codemirror_mode": {
    "name": "ipython",
    "version": 3
   },
   "file_extension": ".py",
   "mimetype": "text/x-python",
   "name": "python",
   "nbconvert_exporter": "python",
   "pygments_lexer": "ipython3",
   "version": "3.11.7"
  }
 },
 "nbformat": 4,
 "nbformat_minor": 2
}

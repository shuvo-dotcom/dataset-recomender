{
 "cells": [
  {
   "cell_type": "code",
   "execution_count": 87,
   "metadata": {},
   "outputs": [
    {
     "name": "stderr",
     "output_type": "stream",
     "text": [
      "Python-dotenv could not parse statement starting at line 7\n",
      "Python-dotenv could not parse statement starting at line 8\n",
      "Python-dotenv could not parse statement starting at line 9\n"
     ]
    }
   ],
   "source": [
    "from bs4 import BeautifulSoup\n",
    "import requests\n",
    "from dotenv import load_dotenv\n",
    "import os\n",
    "load_dotenv()\n",
    "ASTRA_DB_API_ENDPOINT=os.getenv(\"ASTRA_DB_API_ENDPOINT\")\n",
    "ASTRA_DB_APPLICATION_TOKEN=os.getenv(\"ASTRA_DB_APPLICATION_TOKEN\")\n",
    "ASTRA_DB_KEYSPACE=os.getenv(\"ASTRA_DB_KEYSPACE\")\n",
    "HF_TOKEN = os.getenv(\"HF_TOKEN\")\n",
    "GROQ_API = os.getenv(\"GROQ_API\")"
   ]
  },
  {
   "cell_type": "code",
   "execution_count": 88,
   "metadata": {},
   "outputs": [],
   "source": [
    "def extract_info(soup):\n",
    "    return [\n",
    "        {\n",
    "            'title': eachHead.find(\"h3\", {\"class\": \"dataset-heading\"}).find('a').text,\n",
    "            'link': eachHead.find(\"h3\", {\"class\": \"dataset-heading\"}).find('a').attrs['href'],\n",
    "            'datasetOrganiz': eachHead.find(\"div\", {\"class\": \"notes\"}).find('p', {\"class\": \"dataset-organization\"}).text,\n",
    "            'description': eachHead.find(\"div\", {\"class\": \"notes\"}).find('div').text,\n",
    "        } for eachHead in soup.find_all(\"div\", {\"class\": \"dataset-content\"})]"
   ]
  },
  {
   "cell_type": "code",
   "execution_count": 89,
   "metadata": {},
   "outputs": [],
   "source": [
    "url_list = [\n",
    "\"https://catalog.data.gov/dataset?res_format=XML\",\n",
    "# \"http://aiweb.cs.washington.edu/research/projects/xmltk/xmldata/\",\n",
    "# \"https://data.gov.ie/dataset?res_format=JSON\",\n",
    "# \"https://catalog.data.gov/dataset?res_format=JSON\",\n",
    "# \"https://data.worldbank.org/\",\n",
    "]\n",
    "final_doc = []\n",
    "for eachPage in url_list:\n",
    "    r = requests.get(eachPage)\n",
    "    soup = BeautifulSoup(r.content, 'html.parser')\n",
    "    final_doc = final_doc + extract_info(soup)"
   ]
  },
  {
   "cell_type": "code",
   "execution_count": 90,
   "metadata": {},
   "outputs": [
    {
     "data": {
      "text/plain": [
       "[{'title': 'Electric Vehicle Population Data',\n",
       "  'link': '/dataset/electric-vehicle-population-data',\n",
       "  'datasetOrganiz': 'State of Washington —',\n",
       "  'description': 'This dataset shows the Battery Electric Vehicles (BEVs) and Plug-in Hybrid Electric Vehicles (PHEVs) that are currently registered through Washington State Department...'},\n",
       " {'title': 'Crime Data from 2020 to Present',\n",
       "  'link': '/dataset/crime-data-from-2020-to-present',\n",
       "  'datasetOrganiz': 'City of Los Angeles —',\n",
       "  'description': 'Starting on March 7th, 2024, the Los Angeles Police Department (LAPD) will adopt a new Records Management System for reporting crimes and arrests. This new system is...'},\n",
       " {'title': 'Air Quality',\n",
       "  'link': '/dataset/air-quality',\n",
       "  'datasetOrganiz': 'City of New York —',\n",
       "  'description': 'Dataset contains information on New York City air quality surveillance data. Air pollution is one of the most important environmental threats to urban populations...'},\n",
       " {'title': 'Death rates for suicide, by sex, race, Hispanic origin, and age: United States',\n",
       "  'link': '/dataset/death-rates-for-suicide-by-sex-race-hispanic-origin-and-age-united-states-020c1',\n",
       "  'datasetOrganiz': 'U.S. Department of Health & Human Services —',\n",
       "  'description': 'Data on death rates for suicide, by selected population characteristics. Please refer to the PDF or Excel version of this table in the HUS 2019 Data Finder...'},\n",
       " {'title': 'Real Estate Sales 2001-2022 GL',\n",
       "  'link': '/dataset/real-estate-sales-2001-2018',\n",
       "  'datasetOrganiz': 'State of Connecticut —',\n",
       "  'description': 'The Office of Policy and Management maintains a listing of all real estate sales with a sales price of $2,000 or greater that occur between October 1 and September 30...'},\n",
       " {'title': \"Alzheimer's Disease and Healthy Aging Data\",\n",
       "  'link': '/dataset/alzheimers-disease-and-healthy-aging-data',\n",
       "  'datasetOrganiz': 'U.S. Department of Health & Human Services —',\n",
       "  'description': '2015-2022. This data set contains data from BRFSS.'},\n",
       " {'title': 'Motor Vehicle Collisions - Crashes',\n",
       "  'link': '/dataset/motor-vehicle-collisions-crashes',\n",
       "  'datasetOrganiz': 'City of New York —',\n",
       "  'description': 'The Motor Vehicle Collisions crash table contains details on the crash event. Each row represents a crash event. The Motor Vehicle Collisions data tables contain...'},\n",
       " {'title': 'U.S. Chronic Disease Indicators (CDI), 2023 Release',\n",
       "  'link': '/dataset/u-s-chronic-disease-indicators-cdi',\n",
       "  'datasetOrganiz': 'U.S. Department of Health & Human Services —',\n",
       "  'description': 'This dataset is based on indicators described in MMWR \"Indicators for Chronic Disease Surveillance — United States, 2013\"...'},\n",
       " {'title': 'Nutrition, Physical Activity, and Obesity - Behavioral Risk Factor Surveillance System',\n",
       "  'link': '/dataset/nutrition-physical-activity-and-obesity-behavioral-risk-factor-surveillance-system',\n",
       "  'datasetOrganiz': 'U.S. Department of Health & Human Services —',\n",
       "  'description': \"This dataset includes data on adult's diet, physical activity, and weight status from Behavioral Risk Factor Surveillance System. This data is used for DNPAO's Data,...\"},\n",
       " {'title': 'Border Crossing Entry Data',\n",
       "  'link': '/dataset/border-crossing-entry-data-683ae',\n",
       "  'datasetOrganiz': 'Department of Transportation —',\n",
       "  'description': 'The Bureau of Transportation Statistics (BTS) Border Crossing Data provide summary statistics for inbound crossings at the U.S.-Canada and the U.S.-Mexico border at...'},\n",
       " {'title': 'Warehouse and Retail Sales',\n",
       "  'link': '/dataset/warehouse-and-retail-sales',\n",
       "  'datasetOrganiz': 'Montgomery County of Maryland —',\n",
       "  'description': 'This dataset contains a list of sales and movement data by item and department appended monthly. Update Frequency : Monthly'},\n",
       " {'title': 'Lottery Powerball Winning Numbers: Beginning 2010',\n",
       "  'link': '/dataset/lottery-powerball-winning-numbers-beginning-2010',\n",
       "  'datasetOrganiz': 'State of New York —',\n",
       "  'description': 'Go to http://on.ny.gov/1GpWiHD on the New York Lottery website for past Powerball results and payouts.'},\n",
       " {'title': 'Drug overdose death rates, by drug type, sex, age, race, and Hispanic origin: United States',\n",
       "  'link': '/dataset/drug-overdose-death-rates-by-drug-type-sex-age-race-and-hispanic-origin-united-states-3f72f',\n",
       "  'datasetOrganiz': 'U.S. Department of Health & Human Services —',\n",
       "  'description': 'Data on drug overdose death rates, by drug type and selected population characteristics. Please refer to the PDF or Excel version of this table in the HUS 2019 Data...'},\n",
       " {'title': 'Mental Health Care in the Last 4 Weeks',\n",
       "  'link': '/dataset/mental-health-care-in-the-last-4-weeks',\n",
       "  'datasetOrganiz': 'U.S. Department of Health & Human Services —',\n",
       "  'description': 'The U.S. Census Bureau, in collaboration with five federal agencies, launched the Household Pulse Survey to produce data on the social and economic impacts of...'},\n",
       " {'title': 'NCHS - Leading Causes of Death: United States',\n",
       "  'link': '/dataset/nchs-leading-causes-of-death-united-states',\n",
       "  'datasetOrganiz': 'U.S. Department of Health & Human Services —',\n",
       "  'description': 'This dataset presents the age-adjusted death rates for the 10 leading causes of death in the United States beginning in 1999. Data are based on information from all...'},\n",
       " {'title': 'Lottery Mega Millions Winning Numbers: Beginning 2002',\n",
       "  'link': '/dataset/lottery-mega-millions-winning-numbers-beginning-2002',\n",
       "  'datasetOrganiz': 'State of New York —',\n",
       "  'description': 'Go to http://on.ny.gov/1J8tPSN on the New York Lottery website for past Mega Millions results and payouts.'},\n",
       " {'title': 'COVID-19 Outcomes by Vaccination Status - Historical',\n",
       "  'link': '/dataset/covid-19-outcomes-by-vaccination-status',\n",
       "  'datasetOrganiz': 'City of Chicago —',\n",
       "  'description': 'NOTE: This dataset has been retired and marked as historical-only. Weekly rates of COVID-19 cases, hospitalizations, and deaths among people living in Chicago by...'},\n",
       " {'title': '2020 Presidential General Election Results',\n",
       "  'link': '/dataset/2020-presidential-general-election-results',\n",
       "  'datasetOrganiz': 'Montgomery County of Maryland —',\n",
       "  'description': 'The Cumulative Report includes complete official election results for the 2020 Presidential General Election as of November 29, 2020. Results are released in three...'},\n",
       " {'title': 'Popular Baby Names',\n",
       "  'link': '/dataset/popular-baby-names',\n",
       "  'datasetOrganiz': 'City of New York —',\n",
       "  'description': 'Popular Baby Names by Sex and Ethnic Group Data were collected through civil birth registration. Each record represents the ranking of a baby name in the order of...'},\n",
       " {'title': 'Crash Reporting - Drivers Data',\n",
       "  'link': '/dataset/crash-reporting-drivers-data',\n",
       "  'datasetOrganiz': 'Montgomery County of Maryland —',\n",
       "  'description': 'This dataset provides information on motor vehicle operators (drivers) involved in traffic collisions occurring on county and local roadways. The dataset reports...'}]"
      ]
     },
     "execution_count": 90,
     "metadata": {},
     "output_type": "execute_result"
    }
   ],
   "source": [
    "final_doc"
   ]
  },
  {
   "cell_type": "code",
   "execution_count": 91,
   "metadata": {},
   "outputs": [],
   "source": [
    "import pandas as pd\n",
    "df =  pd.DataFrame(final_doc)"
   ]
  },
  {
   "cell_type": "code",
   "execution_count": 92,
   "metadata": {},
   "outputs": [
    {
     "data": {
      "text/html": [
       "<div>\n",
       "<style scoped>\n",
       "    .dataframe tbody tr th:only-of-type {\n",
       "        vertical-align: middle;\n",
       "    }\n",
       "\n",
       "    .dataframe tbody tr th {\n",
       "        vertical-align: top;\n",
       "    }\n",
       "\n",
       "    .dataframe thead th {\n",
       "        text-align: right;\n",
       "    }\n",
       "</style>\n",
       "<table border=\"1\" class=\"dataframe\">\n",
       "  <thead>\n",
       "    <tr style=\"text-align: right;\">\n",
       "      <th></th>\n",
       "      <th>title</th>\n",
       "      <th>link</th>\n",
       "      <th>datasetOrganiz</th>\n",
       "      <th>description</th>\n",
       "    </tr>\n",
       "  </thead>\n",
       "  <tbody>\n",
       "    <tr>\n",
       "      <th>0</th>\n",
       "      <td>Electric Vehicle Population Data</td>\n",
       "      <td>/dataset/electric-vehicle-population-data</td>\n",
       "      <td>State of Washington —</td>\n",
       "      <td>This dataset shows the Battery Electric Vehicl...</td>\n",
       "    </tr>\n",
       "    <tr>\n",
       "      <th>1</th>\n",
       "      <td>Crime Data from 2020 to Present</td>\n",
       "      <td>/dataset/crime-data-from-2020-to-present</td>\n",
       "      <td>City of Los Angeles —</td>\n",
       "      <td>Starting on March 7th, 2024, the Los Angeles P...</td>\n",
       "    </tr>\n",
       "    <tr>\n",
       "      <th>2</th>\n",
       "      <td>Air Quality</td>\n",
       "      <td>/dataset/air-quality</td>\n",
       "      <td>City of New York —</td>\n",
       "      <td>Dataset contains information on New York City ...</td>\n",
       "    </tr>\n",
       "    <tr>\n",
       "      <th>3</th>\n",
       "      <td>Death rates for suicide, by sex, race, Hispani...</td>\n",
       "      <td>/dataset/death-rates-for-suicide-by-sex-race-h...</td>\n",
       "      <td>U.S. Department of Health &amp; Human Services —</td>\n",
       "      <td>Data on death rates for suicide, by selected p...</td>\n",
       "    </tr>\n",
       "    <tr>\n",
       "      <th>4</th>\n",
       "      <td>Real Estate Sales 2001-2022 GL</td>\n",
       "      <td>/dataset/real-estate-sales-2001-2018</td>\n",
       "      <td>State of Connecticut —</td>\n",
       "      <td>The Office of Policy and Management maintains ...</td>\n",
       "    </tr>\n",
       "  </tbody>\n",
       "</table>\n",
       "</div>"
      ],
      "text/plain": [
       "                                               title  \\\n",
       "0                   Electric Vehicle Population Data   \n",
       "1                    Crime Data from 2020 to Present   \n",
       "2                                        Air Quality   \n",
       "3  Death rates for suicide, by sex, race, Hispani...   \n",
       "4                     Real Estate Sales 2001-2022 GL   \n",
       "\n",
       "                                                link  \\\n",
       "0          /dataset/electric-vehicle-population-data   \n",
       "1           /dataset/crime-data-from-2020-to-present   \n",
       "2                               /dataset/air-quality   \n",
       "3  /dataset/death-rates-for-suicide-by-sex-race-h...   \n",
       "4               /dataset/real-estate-sales-2001-2018   \n",
       "\n",
       "                                 datasetOrganiz  \\\n",
       "0                         State of Washington —   \n",
       "1                         City of Los Angeles —   \n",
       "2                            City of New York —   \n",
       "3  U.S. Department of Health & Human Services —   \n",
       "4                        State of Connecticut —   \n",
       "\n",
       "                                         description  \n",
       "0  This dataset shows the Battery Electric Vehicl...  \n",
       "1  Starting on March 7th, 2024, the Los Angeles P...  \n",
       "2  Dataset contains information on New York City ...  \n",
       "3  Data on death rates for suicide, by selected p...  \n",
       "4  The Office of Policy and Management maintains ...  "
      ]
     },
     "execution_count": 92,
     "metadata": {},
     "output_type": "execute_result"
    }
   ],
   "source": [
    "df.head()"
   ]
  },
  {
   "cell_type": "code",
   "execution_count": 93,
   "metadata": {},
   "outputs": [
    {
     "data": {
      "text/plain": [
       "[Document(metadata={'title': 'Electric Vehicle Population Data'}, page_content='This dataset shows the Battery Electric Vehicles (BEVs) and Plug-in Hybrid Electric Vehicles (PHEVs) that are currently registered through Washington State Department...'),\n",
       " Document(metadata={'title': 'Crime Data from 2020 to Present'}, page_content='Starting on March 7th, 2024, the Los Angeles Police Department (LAPD) will adopt a new Records Management System for reporting crimes and arrests. This new system is...'),\n",
       " Document(metadata={'title': 'Air Quality'}, page_content='Dataset contains information on New York City air quality surveillance data. Air pollution is one of the most important environmental threats to urban populations...'),\n",
       " Document(metadata={'title': 'Death rates for suicide, by sex, race, Hispanic origin, and age: United States'}, page_content='Data on death rates for suicide, by selected population characteristics. Please refer to the PDF or Excel version of this table in the HUS 2019 Data Finder...'),\n",
       " Document(metadata={'title': 'Real Estate Sales 2001-2022 GL'}, page_content='The Office of Policy and Management maintains a listing of all real estate sales with a sales price of $2,000 or greater that occur between October 1 and September 30...'),\n",
       " Document(metadata={'title': \"Alzheimer's Disease and Healthy Aging Data\"}, page_content='2015-2022. This data set contains data from BRFSS.'),\n",
       " Document(metadata={'title': 'Motor Vehicle Collisions - Crashes'}, page_content='The Motor Vehicle Collisions crash table contains details on the crash event. Each row represents a crash event. The Motor Vehicle Collisions data tables contain...'),\n",
       " Document(metadata={'title': 'U.S. Chronic Disease Indicators (CDI), 2023 Release'}, page_content='This dataset is based on indicators described in MMWR \"Indicators for Chronic Disease Surveillance — United States, 2013\"...'),\n",
       " Document(metadata={'title': 'Nutrition, Physical Activity, and Obesity - Behavioral Risk Factor Surveillance System'}, page_content=\"This dataset includes data on adult's diet, physical activity, and weight status from Behavioral Risk Factor Surveillance System. This data is used for DNPAO's Data,...\"),\n",
       " Document(metadata={'title': 'Border Crossing Entry Data'}, page_content='The Bureau of Transportation Statistics (BTS) Border Crossing Data provide summary statistics for inbound crossings at the U.S.-Canada and the U.S.-Mexico border at...'),\n",
       " Document(metadata={'title': 'Warehouse and Retail Sales'}, page_content='This dataset contains a list of sales and movement data by item and department appended monthly. Update Frequency : Monthly'),\n",
       " Document(metadata={'title': 'Lottery Powerball Winning Numbers: Beginning 2010'}, page_content='Go to http://on.ny.gov/1GpWiHD on the New York Lottery website for past Powerball results and payouts.'),\n",
       " Document(metadata={'title': 'Drug overdose death rates, by drug type, sex, age, race, and Hispanic origin: United States'}, page_content='Data on drug overdose death rates, by drug type and selected population characteristics. Please refer to the PDF or Excel version of this table in the HUS 2019 Data...'),\n",
       " Document(metadata={'title': 'Mental Health Care in the Last 4 Weeks'}, page_content='The U.S. Census Bureau, in collaboration with five federal agencies, launched the Household Pulse Survey to produce data on the social and economic impacts of...'),\n",
       " Document(metadata={'title': 'NCHS - Leading Causes of Death: United States'}, page_content='This dataset presents the age-adjusted death rates for the 10 leading causes of death in the United States beginning in 1999. Data are based on information from all...'),\n",
       " Document(metadata={'title': 'Lottery Mega Millions Winning Numbers: Beginning 2002'}, page_content='Go to http://on.ny.gov/1J8tPSN on the New York Lottery website for past Mega Millions results and payouts.'),\n",
       " Document(metadata={'title': 'COVID-19 Outcomes by Vaccination Status - Historical'}, page_content='NOTE: This dataset has been retired and marked as historical-only. Weekly rates of COVID-19 cases, hospitalizations, and deaths among people living in Chicago by...'),\n",
       " Document(metadata={'title': '2020 Presidential General Election Results'}, page_content='The Cumulative Report includes complete official election results for the 2020 Presidential General Election as of November 29, 2020. Results are released in three...'),\n",
       " Document(metadata={'title': 'Popular Baby Names'}, page_content='Popular Baby Names by Sex and Ethnic Group Data were collected through civil birth registration. Each record represents the ranking of a baby name in the order of...'),\n",
       " Document(metadata={'title': 'Crash Reporting - Drivers Data'}, page_content='This dataset provides information on motor vehicle operators (drivers) involved in traffic collisions occurring on county and local roadways. The dataset reports...')]"
      ]
     },
     "execution_count": 93,
     "metadata": {},
     "output_type": "execute_result"
    }
   ],
   "source": [
    "from langchain_core.documents import Document\n",
    "docs = [ Document(page_content=obj['description'], metadata={'title':obj['title']})  for obj in final_doc]\n",
    "docs"
   ]
  },
  {
   "cell_type": "code",
   "execution_count": 94,
   "metadata": {},
   "outputs": [],
   "source": [
    "from langchain_community.embeddings import HuggingFaceInferenceAPIEmbeddings\n",
    "embeddings = HuggingFaceInferenceAPIEmbeddings(api_key= HF_TOKEN, model_name= \"BAAI/bge-base-en-v1.5\")\n",
    "from langchain_astradb import AstraDBVectorStore\n",
    "vstore = AstraDBVectorStore(\n",
    "    embedding= embeddings,\n",
    "    collection_name= \"datasetAggregator\",\n",
    "    api_endpoint = ASTRA_DB_API_ENDPOINT,\n",
    "    token = ASTRA_DB_APPLICATION_TOKEN,\n",
    "    namespace = ASTRA_DB_KEYSPACE\n",
    ")"
   ]
  },
  {
   "cell_type": "code",
   "execution_count": 95,
   "metadata": {},
   "outputs": [],
   "source": [
    "insert_ids = vstore.add_documents(docs)"
   ]
  },
  {
   "cell_type": "code",
   "execution_count": 96,
   "metadata": {},
   "outputs": [],
   "source": [
    "from langchain_groq import ChatGroq\n",
    "from langchain.chains import create_retrieval_chain\n",
    "from langchain.chains.combine_documents import create_stuff_documents_chain\n",
    "from langchain_core.prompts import MessagesPlaceholder\n",
    "from langchain.chains import create_history_aware_retriever\n",
    "model = ChatGroq(groq_api_key = GROQ_API, model=\"llama-3.1-70b-versatile\", temperature=0.5)"
   ]
  },
  {
   "cell_type": "code",
   "execution_count": 97,
   "metadata": {},
   "outputs": [],
   "source": [
    "retriever_prompt = (\"Given a chat history and the latest user question which might reference context in the chat history,\"\n",
    "    \"formulate a standalone question which can be understood without the chat history.\"\n",
    "    \"Do NOT answer the question, just reformulate it if needed and otherwise return it as is.\"\n",
    "    )\n",
    "retriever = vstore.as_retriever(search_kwargs={\"k\": 3})\n",
    "from langchain_core.prompts import ChatPromptTemplate\n",
    "contextualize_q_prompt = ChatPromptTemplate.from_messages(\n",
    "    [\n",
    "    (\"system\", retriever_prompt),\n",
    "    MessagesPlaceholder(variable_name=\"chat_history\"),\n",
    "    (\"human\", \"{input}\"),\n",
    "    ]\n",
    ")\n",
    "history_aware_retriever = create_history_aware_retriever(model, retriever, contextualize_q_prompt)"
   ]
  },
  {
   "cell_type": "code",
   "execution_count": 98,
   "metadata": {},
   "outputs": [],
   "source": [
    "DATASET_BOT_TEMPLATE = \"\"\"\n",
    "    You are an expert bot for providing insights about datasets.\n",
    "    Your role is to analyze dataset titles and descriptions to help users find relevant information and answer their queries accurately.\n",
    "    Ensure your responses are concise, informative, and remain focused on the context of the dataset.\n",
    "    Avoid providing irrelevant or off-topic information.\n",
    "\n",
    "    CONTEXT:\n",
    "    {context}\n",
    "\n",
    "    QUESTION: {input}\n",
    "\n",
    "    YOUR ANSWER:\n",
    "    \"\"\"\n",
    "qa_prompt = ChatPromptTemplate.from_messages(\n",
    "    [\n",
    "        (\"system\", DATASET_BOT_TEMPLATE),\n",
    "        MessagesPlaceholder(variable_name=\"chat_history\"),\n",
    "        (\"human\", \"{input}\")\n",
    "    ]\n",
    ")"
   ]
  },
  {
   "cell_type": "code",
   "execution_count": 99,
   "metadata": {},
   "outputs": [],
   "source": [
    "question_answer_chain = create_stuff_documents_chain(model, qa_prompt)\n",
    "chain = create_retrieval_chain(history_aware_retriever, question_answer_chain)\n",
    "chat_history = []\n",
    "from langchain_community.chat_message_histories import ChatMessageHistory\n",
    "from langchain_core.chat_history import BaseChatMessageHistory\n",
    "from langchain_core.runnables.history import RunnableWithMessageHistory\n",
    "store = {}"
   ]
  },
  {
   "cell_type": "code",
   "execution_count": 100,
   "metadata": {},
   "outputs": [],
   "source": [
    "def get_session_history(session_id: str)-> BaseChatMessageHistory:\n",
    "  if session_id not in store:\n",
    "    store[session_id]= ChatMessageHistory()\n",
    "  return store[session_id]"
   ]
  },
  {
   "cell_type": "code",
   "execution_count": 101,
   "metadata": {},
   "outputs": [],
   "source": [
    "chain_with_memmory = RunnableWithMessageHistory(\n",
    "    chain,\n",
    "    get_session_history,\n",
    "    input_messages_key=\"input\",\n",
    "    history_messages_key=\"chat_history\",\n",
    "    output_messages_key=\"answer\",\n",
    ")"
   ]
  },
  {
   "cell_type": "code",
   "execution_count": 102,
   "metadata": {},
   "outputs": [
    {
     "data": {
      "text/plain": [
       "'No, this dataset does not appear to be related to electric information, but rather focuses on air quality surveillance data in New York City.'"
      ]
     },
     "execution_count": 102,
     "metadata": {},
     "output_type": "execute_result"
    }
   ],
   "source": [
    "chain_with_memmory.invoke(\n",
    "   {\"input\": \"can you tell me the dataset to choose relate to electric?\"},\n",
    "    config={\n",
    "        \"configurable\": {\"session_id\": \"shuvo\"}\n",
    "    },\n",
    ")[\"answer\"]"
   ]
  }
 ],
 "metadata": {
  "kernelspec": {
   "display_name": "genai",
   "language": "python",
   "name": "python3"
  },
  "language_info": {
   "codemirror_mode": {
    "name": "ipython",
    "version": 3
   },
   "file_extension": ".py",
   "mimetype": "text/x-python",
   "name": "python",
   "nbconvert_exporter": "python",
   "pygments_lexer": "ipython3",
   "version": "3.11.7"
  }
 },
 "nbformat": 4,
 "nbformat_minor": 2
}
